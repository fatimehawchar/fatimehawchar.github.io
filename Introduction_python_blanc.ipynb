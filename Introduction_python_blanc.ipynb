{
  "nbformat": 4,
  "nbformat_minor": 0,
  "metadata": {
    "kernelspec": {
      "display_name": "Python 3",
      "language": "python",
      "name": "python3"
    },
    "language_info": {
      "codemirror_mode": {
        "name": "ipython",
        "version": 3
      },
      "file_extension": ".py",
      "mimetype": "text/x-python",
      "name": "python",
      "nbconvert_exporter": "python",
      "pygments_lexer": "ipython3",
      "version": "3.6.5"
    },
    "colab": {
      "name": "Introduction_python_blanc.ipynb",
      "provenance": [],
      "include_colab_link": true
    }
  },
  "cells": [
    {
      "cell_type": "markdown",
      "metadata": {
        "id": "view-in-github",
        "colab_type": "text"
      },
      "source": [
        "<a href=\"https://colab.research.google.com/github/fatimehawchar/fatimehawchar.github.io/blob/master/Introduction_python_blanc.ipynb\" target=\"_parent\"><img src=\"https://colab.research.google.com/assets/colab-badge.svg\" alt=\"Open In Colab\"/></a>"
      ]
    },
    {
      "cell_type": "markdown",
      "metadata": {
        "collapsed": true,
        "id": "SlzDaN9myqKm"
      },
      "source": [
        "## IPython notebooks\n",
        "\n",
        "The currently opened file (i.e. _L0.1.ipynb_ ;) ) is an IPython notebook. It consists of several _cells_ whoose content is either formatted text or runnable (Python) code. It is a useful tool to execute Python code for rapid prototyping or tutorial purposes like this, as you can mix descriptive text (and figures) with runnable code as well as the resulting outputs within one file.\n",
        "\n",
        "If a cell is marked it is surrounded by either a blue or a green frame. A green frame indicates that it is in editable mode currently, a blue one means it is not. You may use the arrow keys to navigate between cells when in blue mode. It is also possible to change the type of the cell (either 'markdown' text or executable code) when in blue mode.\n",
        "\n",
        "The most important commands for its usage are:\n",
        "\n",
        " * _Ctrl-Enter_  -  execute \\ process marked cell\n",
        " * _Shift-Enter_  -  execute \\ process marked cell and advance to the next cell\n",
        " * _arrow keys_  -  navigate between cells (in BLUE mode only)\n",
        " * _Esc_  -  exit editable (i.e. green) mode and switch to BLUE mode (in GREEN mode only)\n",
        " * _Enter_  -  enter editable mode (in BLUE mode only)\n",
        " * _m_  -  switch type of marked cell to _markdown_ (in BLUE mode only)\n",
        " * _y_  -  switch type of marked cell to _code_ (in BLUE mode only)"
      ]
    },
    {
      "cell_type": "markdown",
      "metadata": {
        "id": "hMWBX4HtyqKn"
      },
      "source": [
        "# Variables\n",
        "\n",
        "In Python variables do not have a static type. That means you can assign anything to a variable name and the type of its content may change over time."
      ]
    },
    {
      "cell_type": "code",
      "metadata": {
        "id": "Z4nvCICZyqKo"
      },
      "source": [
        "# create variable 'var_1' and assign an integer value #\n",
        "var_1 = 5\n",
        "\n",
        "# change the value of 'var_1' to a string #\n",
        "var_1 = 'any text'\n",
        "# change the value of 'var_1' to a bool #\n",
        "var_1 = False\n",
        "# change the value of 'var_1' to a text #\n",
        "var_2 = 3.12331"
      ],
      "execution_count": null,
      "outputs": []
    },
    {
      "cell_type": "markdown",
      "metadata": {
        "id": "1AKeg4agyqKw"
      },
      "source": [
        "# Print function\n",
        "\n",
        "This will probably be the most frequently used function throughout the labs... ;)\n",
        "\n",
        "In order to print a variable (you can print any), just give it as an argument to the 'print' function (as seen above)."
      ]
    },
    {
      "cell_type": "code",
      "metadata": {
        "id": "6kYHQdXNyqKx",
        "colab": {
          "base_uri": "https://localhost:8080/"
        },
        "outputId": "095e7229-4d9c-49e6-ca54-86ef9a73272c"
      },
      "source": [
        "print(var_1)\n",
        "print(type(var_1))"
      ],
      "execution_count": null,
      "outputs": [
        {
          "output_type": "stream",
          "text": [
            "False\n",
            "<class 'bool'>\n"
          ],
          "name": "stdout"
        }
      ]
    },
    {
      "cell_type": "markdown",
      "metadata": {
        "id": "izcu-HpEyqK2"
      },
      "source": [
        "In case you want to print several, just extend the argument list. 'print' takes infinitely many arguments."
      ]
    },
    {
      "cell_type": "code",
      "metadata": {
        "id": "tPp0h5pQyqK3",
        "colab": {
          "base_uri": "https://localhost:8080/"
        },
        "outputId": "e7c4fc39-925d-48da-85ac-1db6ed49bfc8"
      },
      "source": [
        "print(var_1, type (var_1))"
      ],
      "execution_count": null,
      "outputs": [
        {
          "output_type": "stream",
          "text": [
            "3.12331 <class 'float'>\n"
          ],
          "name": "stdout"
        }
      ]
    },
    {
      "cell_type": "markdown",
      "metadata": {
        "id": "owbahDQByqK6"
      },
      "source": [
        "If you want to format you output, you have to create a string in which you arrange your output. That string is then given to the 'print' function.\n",
        "\n",
        "In order to format that output string, you can use the formatting functionality for strings in Python (similar to Matlab's 'printf'). Use '{}' as placeholders in your string, then call a member function 'format' on the string object which receives an argument for each of the used placeholders."
      ]
    },
    {
      "cell_type": "code",
      "metadata": {
        "scrolled": true,
        "id": "q0uOCqfeyqK8",
        "colab": {
          "base_uri": "https://localhost:8080/"
        },
        "outputId": "993d0f7a-6b73-4203-d7ac-a323e597033b"
      },
      "source": [
        "print('a formatted output : {} add more {:1.2f}'. format(var_1, var_2))"
      ],
      "execution_count": null,
      "outputs": [
        {
          "output_type": "stream",
          "text": [
            "a formatted output : False add more 3.12\n"
          ],
          "name": "stdout"
        }
      ]
    },
    {
      "cell_type": "markdown",
      "metadata": {
        "id": "sTZVGpzVyqLA"
      },
      "source": [
        "Similar to Matlab's 'printf' you can specify the decimal format in which you want to print numbers."
      ]
    },
    {
      "cell_type": "code",
      "metadata": {
        "id": "-Fq9CoVOyqLA"
      },
      "source": [
        ""
      ],
      "execution_count": null,
      "outputs": []
    },
    {
      "cell_type": "markdown",
      "metadata": {
        "id": "boMmeG7qyqLF"
      },
      "source": [
        "# Operators"
      ]
    },
    {
      "cell_type": "markdown",
      "metadata": {
        "id": "trhN3lj7yqLF"
      },
      "source": [
        "## Mathematical operators\n",
        "\n",
        "Most of the mathematical operators known from Matlab are available in Python, too. However some (e.g. exponentiation) are different!"
      ]
    },
    {
      "cell_type": "code",
      "metadata": {
        "id": "-LtDnkDoyqLF",
        "colab": {
          "base_uri": "https://localhost:8080/"
        },
        "outputId": "33bae920-dd21-404a-cec4-f035dd8d8fe7"
      },
      "source": [
        "a = 3\n",
        "b = 2\n",
        "\n",
        "# scalar addition #\n",
        "c = a + b\n",
        "\n",
        "# scalar subtraction #\n",
        "d = a - b\n",
        "\n",
        "# scalar multiplication #\n",
        "e = a*b\n",
        "\n",
        "# float division #\n",
        "d = a / b\n",
        "\n",
        "# floor divide #\n",
        "d = a//b\n",
        "\n",
        "# modulo - the remaining of a division #\n",
        "d = a%b\n",
        "# exponentiation #\n",
        "d = a ** b\n",
        "\n",
        "# bit-wise XOR #\n",
        "\n",
        "print(\"{} ^ {} = {}\".format(a, b, d), type(d))"
      ],
      "execution_count": null,
      "outputs": [
        {
          "output_type": "stream",
          "text": [
            "3 ^ 2 = 9 <class 'int'>\n"
          ],
          "name": "stdout"
        }
      ]
    },
    {
      "cell_type": "markdown",
      "metadata": {
        "id": "D12E2N-pyqLI"
      },
      "source": [
        "As opposed to matlab, there are short notations if the variable on the left hand side is used in a simple expression on the right hand side."
      ]
    },
    {
      "cell_type": "code",
      "metadata": {
        "id": "1Ve7pvPDyqLI",
        "colab": {
          "base_uri": "https://localhost:8080/"
        },
        "outputId": "8b40df84-d830-40b2-f33c-d804226d010c"
      },
      "source": [
        "# scalar addition #\n",
        "\n",
        "a = 0\n",
        "b = 2\n",
        "\n",
        "print('a = {}'.format(a))\n",
        "\n",
        "a += 1\n",
        "\n",
        "print('a = {}'.format(a))\n",
        "\n",
        "print(\"After incrementation by {} a = {}\".format(b, a))\n",
        "\n",
        "\n",
        "\n",
        "# scalar subtraction #\n",
        "\n",
        "print(\"After decrementation by {} a = {}\".format(b, a))\n",
        "\n",
        "# scalar multiplication #\n",
        "\n",
        "print(\"After multiplication by {} a = {}\".format(b, a))\n",
        "\n",
        "# float division #\n",
        "\n",
        "print(\"After division by {} a = {}\".format(b, a))\n",
        "\n",
        "# floor divide #\n",
        "print(\"After floor division by {} a = {}\".format(b, a))\n",
        "\n",
        "# modulo #\n",
        "\n",
        "print(\"After modulo by {} a = {}\".format(b, a))\n",
        "\n",
        "# exponentiation #\n",
        "\n",
        "print(\"After exponentiation by {} a = {}\".format(b, a))\n",
        "\n",
        "# bit-wise XOR #\n",
        "\n",
        "print(\"After bit-wise XOR with {} a = {}\".format(b, a))"
      ],
      "execution_count": null,
      "outputs": [
        {
          "output_type": "stream",
          "text": [
            "a = 0\n",
            "a = 1\n",
            "After incrementation by 2 a = 1\n",
            "After decrementation by 2 a = 1\n",
            "After multiplication by 2 a = 1\n",
            "After division by 2 a = 1\n",
            "After floor division by 2 a = 1\n",
            "After modulo by 2 a = 1\n",
            "After exponentiation by 2 a = 1\n",
            "After bit-wise XOR with 2 a = 1\n"
          ],
          "name": "stdout"
        }
      ]
    },
    {
      "cell_type": "markdown",
      "metadata": {
        "id": "yqV7p9kwyqLN"
      },
      "source": [
        "### Comparison operators\n",
        "\n",
        "Comparison operators work as in Matlab as well, except for the inequality."
      ]
    },
    {
      "cell_type": "code",
      "metadata": {
        "id": "Q_5K3KMuyqLN"
      },
      "source": [
        "# equality #\n",
        "\n",
        "print(\"{} == {} = {}\".format(a, b, c))\n",
        "\n",
        "# inequality #\n",
        "\n",
        "print(\"{} != {} = {}\".format(a, b, c))"
      ],
      "execution_count": null,
      "outputs": []
    },
    {
      "cell_type": "markdown",
      "metadata": {
        "id": "0fqFG5JdyqLQ"
      },
      "source": [
        "## Logical operators\n",
        "\n",
        "In python logical operations are quite readable since logical operations are based on the keywords _and_, _or_, _not_."
      ]
    },
    {
      "cell_type": "code",
      "metadata": {
        "id": "vvNBddTyyqLR"
      },
      "source": [
        "# boolean type #\n",
        "\n",
        "print(\"Type of 'var_b' with value {} is {}.\".format(v, type(v)))\n",
        "\n",
        "# logical complement #\n",
        "\n",
        "print(\"{} = not {}\".format(w, v))\n",
        "\n",
        "# logical AND #\n",
        "\n",
        "print(\"{} = {} and {}\".format(w, w, v))\n",
        "\n",
        "# logical OR #\n",
        "\n",
        "print(\"{} = not {} or {}\".format(w, w, v))"
      ],
      "execution_count": null,
      "outputs": []
    },
    {
      "cell_type": "markdown",
      "metadata": {
        "id": "jN9RCjIDyqLV"
      },
      "source": [
        "## String concatenation\n",
        "\n",
        "Also strings can be 'added' which results in a concatenation."
      ]
    },
    {
      "cell_type": "code",
      "metadata": {
        "id": "4DwY7QfgyqLV"
      },
      "source": [
        "# concatenation #\n"
      ],
      "execution_count": null,
      "outputs": []
    },
    {
      "cell_type": "markdown",
      "metadata": {
        "id": "CDdsLrW1yqLZ"
      },
      "source": [
        "## Membership operator\n",
        "\n",
        "This is a very useful operator when checking if an object is contained in another one. It can be used in several different contexts (not only for strings). The keyword is _in_."
      ]
    },
    {
      "cell_type": "code",
      "metadata": {
        "scrolled": true,
        "id": "g_NLsZqqyqLa"
      },
      "source": [
        "# check for substring #\n"
      ],
      "execution_count": null,
      "outputs": []
    },
    {
      "cell_type": "markdown",
      "metadata": {
        "id": "wOGF1PSEyqLd"
      },
      "source": [
        "# Data structures\n",
        "\n",
        "Python features three basic build-in data structures which are of interest for now: __tuple__, __list__, __dict__."
      ]
    },
    {
      "cell_type": "markdown",
      "metadata": {
        "id": "KPO_J_W4yqLj"
      },
      "source": [
        "### Tuple\n",
        "\n",
        "A tuple is an ordered sequence of values. It can be created by stating a comma-separated list of values within parantheses. It is a _readonly_ object, i.e. its values can be read, but you cannot modify an existing tuple.\n",
        "\n",
        "Its common usage is if functions return multiple values, those would be collected in a single tuple."
      ]
    },
    {
      "cell_type": "code",
      "metadata": {
        "id": "ISXjHtxFyqLk",
        "colab": {
          "base_uri": "https://localhost:8080/",
          "height": 34
        },
        "outputId": "d624f2d6-9d30-4be4-d02d-f9dd5277dd7e"
      },
      "source": [
        "# create a tuple by stating comma-separated values within parentheses '(..., ...,)' #\n"
      ],
      "execution_count": null,
      "outputs": [
        {
          "output_type": "execute_result",
          "data": {
            "text/plain": [
              "str"
            ]
          },
          "metadata": {
            "tags": []
          },
          "execution_count": 1
        }
      ]
    },
    {
      "cell_type": "markdown",
      "metadata": {
        "id": "psL9y4u7yqLo"
      },
      "source": [
        "In order to access single elements use bracket notation ('[index]'). Note that indices in Python start with '0' (NOT at '1' as in Matlab)."
      ]
    },
    {
      "cell_type": "code",
      "metadata": {
        "id": "j24_JRWOyqLo"
      },
      "source": [
        "# access values by bracket notation #\n",
        "\n",
        "# NOTE: start indices with 0 #\n"
      ],
      "execution_count": null,
      "outputs": []
    },
    {
      "cell_type": "markdown",
      "metadata": {
        "id": "STYagaUZyqLr"
      },
      "source": [
        "Trying to modify a value results in an error."
      ]
    },
    {
      "cell_type": "code",
      "metadata": {
        "id": "wTTAAdmMyqLr"
      },
      "source": [
        "# tuples cannot be modified #\n"
      ],
      "execution_count": null,
      "outputs": []
    },
    {
      "cell_type": "markdown",
      "metadata": {
        "id": "OFP4YCXlyqLu"
      },
      "source": [
        "### List\n",
        "\n",
        "Lists are ordered sequences as well. However, as opposed to tuples they are writable objects. A list is created by wrapping a comma-separated list of values in brackets ('[..., ...,]')."
      ]
    },
    {
      "cell_type": "code",
      "metadata": {
        "id": "JAONdF7WyqLv"
      },
      "source": [
        "# create a list #\n",
        "b = # create list\n",
        "print(\"'b' is of type '{}' and has value '{}'.\".format(type(b), b))"
      ],
      "execution_count": null,
      "outputs": []
    },
    {
      "cell_type": "markdown",
      "metadata": {
        "id": "duLuhUKzyqLy"
      },
      "source": [
        "Accessing elements works in the same way as for tuples. However, it is possible to modify entries as well."
      ]
    },
    {
      "cell_type": "code",
      "metadata": {
        "id": "GvALO2wEyqLy",
        "colab": {
          "base_uri": "https://localhost:8080/",
          "height": 238
        },
        "outputId": "9b45c18b-a317-4652-fea1-07688e3a8e93"
      },
      "source": [
        "# access values by bracket notation #\n",
        "\n",
        "\n",
        "# change value by using bracket notation on the left hand side #\n"
      ],
      "execution_count": null,
      "outputs": [
        {
          "output_type": "error",
          "ename": "NameError",
          "evalue": "ignored",
          "traceback": [
            "\u001b[0;31m---------------------------------------------------------------------------\u001b[0m",
            "\u001b[0;31mNameError\u001b[0m                                 Traceback (most recent call last)",
            "\u001b[0;32m<ipython-input-2-1bb4186de6aa>\u001b[0m in \u001b[0;36m<module>\u001b[0;34m()\u001b[0m\n\u001b[1;32m      1\u001b[0m \u001b[0;31m# access values by bracket notation #\u001b[0m\u001b[0;34m\u001b[0m\u001b[0;34m\u001b[0m\u001b[0;34m\u001b[0m\u001b[0m\n\u001b[1;32m      2\u001b[0m \u001b[0midx\u001b[0m \u001b[0;34m=\u001b[0m \u001b[0;36m1\u001b[0m\u001b[0;34m\u001b[0m\u001b[0;34m\u001b[0m\u001b[0m\n\u001b[0;32m----> 3\u001b[0;31m \u001b[0mprint\u001b[0m\u001b[0;34m(\u001b[0m\u001b[0;34m\"b[{}] = '{}'\"\u001b[0m\u001b[0;34m.\u001b[0m\u001b[0mformat\u001b[0m\u001b[0;34m(\u001b[0m\u001b[0midx\u001b[0m\u001b[0;34m,\u001b[0m \u001b[0mb\u001b[0m\u001b[0;34m[\u001b[0m\u001b[0midx\u001b[0m\u001b[0;34m]\u001b[0m\u001b[0;34m)\u001b[0m\u001b[0;34m)\u001b[0m\u001b[0;34m\u001b[0m\u001b[0;34m\u001b[0m\u001b[0m\n\u001b[0m\u001b[1;32m      4\u001b[0m \u001b[0;34m\u001b[0m\u001b[0m\n\u001b[1;32m      5\u001b[0m \u001b[0;31m# change value by using bracket notation on the left hand side #\u001b[0m\u001b[0;34m\u001b[0m\u001b[0;34m\u001b[0m\u001b[0;34m\u001b[0m\u001b[0m\n",
            "\u001b[0;31mNameError\u001b[0m: name 'b' is not defined"
          ]
        }
      ]
    },
    {
      "cell_type": "markdown",
      "metadata": {
        "id": "hmlFS5HYyqL0"
      },
      "source": [
        "It's even possible to dynamically append new items to an existing list."
      ]
    },
    {
      "cell_type": "code",
      "metadata": {
        "id": "2ggrkNgeyqL3"
      },
      "source": [
        "# append new item #\n"
      ],
      "execution_count": null,
      "outputs": []
    },
    {
      "cell_type": "markdown",
      "metadata": {
        "id": "XTTnv8P7yqL5"
      },
      "source": [
        "### Operators for Tuple and List\n",
        "\n",
        "The _concatenation_ and _membership_ operators introduced above do also apply for tuples and lists. That makes their usage very handy."
      ]
    },
    {
      "cell_type": "code",
      "metadata": {
        "id": "n4Twl46-yqL5"
      },
      "source": [
        "# concatenation #\n"
      ],
      "execution_count": null,
      "outputs": []
    },
    {
      "cell_type": "code",
      "metadata": {
        "id": "W7ErLO4myqL7"
      },
      "source": [
        "# membership #\n"
      ],
      "execution_count": null,
      "outputs": []
    },
    {
      "cell_type": "markdown",
      "metadata": {
        "id": "kjfX7rVDyqL-"
      },
      "source": [
        "It is also possible to apply concatenation multiple times by the '*' operator.\n",
        "\n",
        "**WARNING**: Don't mix it up with the mathematical element-wise multiplication with a scalar!"
      ]
    },
    {
      "cell_type": "code",
      "metadata": {
        "id": "pLUgPlsHyqL_"
      },
      "source": [
        "# multiple concatenations #\n"
      ],
      "execution_count": null,
      "outputs": []
    },
    {
      "cell_type": "markdown",
      "metadata": {
        "id": "WsELV8gbyqMB"
      },
      "source": [
        "### Dict\n",
        "\n",
        "Dictionaries are a set of key/value pairs which do not have an order. Indexing can be applied similarly to lists but using the keys as indices. Creation of a dict is done by wrapping a list of key / value pairs in curly brackets ('{..., ...}'). A key / value pair is provided as 'key : value'."
      ]
    },
    {
      "cell_type": "code",
      "metadata": {
        "id": "6ZUtYlCgyqMC"
      },
      "source": [
        "# create a dictionary #\n",
        "\n",
        "# alternative creation (ONLY if all keys are strings) #\n"
      ],
      "execution_count": null,
      "outputs": []
    },
    {
      "cell_type": "code",
      "metadata": {
        "id": "1z2J_ml-yqMF"
      },
      "source": [
        "# access values by bracket notation #\n"
      ],
      "execution_count": null,
      "outputs": []
    },
    {
      "cell_type": "markdown",
      "metadata": {
        "id": "e8VXIgy2yqMH"
      },
      "source": [
        "There exist convenience functions to access the keys, values or key/value pairs as a list directly."
      ]
    },
    {
      "cell_type": "code",
      "metadata": {
        "id": "eFlqtRG1yqMI"
      },
      "source": [
        "# retrieve all keys as a list #\n",
        "\n",
        "\n",
        "# retrieve all values as a list #\n",
        "\n",
        "\n",
        "# retrieve tuples of key/value pairs as a list #\n"
      ],
      "execution_count": null,
      "outputs": []
    },
    {
      "cell_type": "markdown",
      "metadata": {
        "id": "Y5-mY1cOyqMK"
      },
      "source": [
        "### Check length\n",
        "\n",
        "You can retrieve the length of any of the three introduced data structures by the built-in command _len_."
      ]
    },
    {
      "cell_type": "code",
      "metadata": {
        "id": "dAQaRv4XyqML"
      },
      "source": [
        "# length of a tuple #\n",
        "\n",
        "\n",
        "# length of a list #\n",
        "\n",
        "\n",
        "# length of a dict #\n",
        "\n"
      ],
      "execution_count": null,
      "outputs": []
    },
    {
      "cell_type": "markdown",
      "metadata": {
        "id": "MX4h65rTyqMN"
      },
      "source": [
        "## Control flow\n",
        "\n",
        "As in Matlab, there are _for_ and _while_ loops as well as _if_/_else_ statements available to control the program flow. However, their syntax is slightly different in Python.\n",
        "\n",
        "##### Indentation\n",
        "Generally, there are no keywords (like 'begin' or 'end' indicating the body of a loop or a function. Instead the Python language relies on strict indentation rules in order to indicate such a hierarchy. You are required to use the same indentation (e.g. 4 whitespaces) throughout your whole code consistently."
      ]
    },
    {
      "cell_type": "markdown",
      "metadata": {
        "id": "TVFrIE-byqMO"
      },
      "source": [
        "### if-clauses\n",
        "\n",
        "In Python an if clause is started with the keyword _if_ followed by a statement that evaluates to a boolean value and finished by a colon (':'). The body of the if-statment consisting of the code executed if the condition is _True_ must be indented."
      ]
    },
    {
      "cell_type": "code",
      "metadata": {
        "id": "2sMSv8YGyqMO"
      },
      "source": [
        "# define condition explicitly #\n",
        "condition = 3 in d\n",
        "\n",
        "# check for condition\n",
        "\n",
        "# check for not in condition"
      ],
      "execution_count": null,
      "outputs": []
    },
    {
      "cell_type": "markdown",
      "metadata": {
        "id": "yZWDxGafyqMQ"
      },
      "source": [
        "Cascading if-statements work similar to Matlab syntax. Note, that there is no 'switch' statement, but the same behaviour can be achieved by cascading several _elif_ branches."
      ]
    },
    {
      "cell_type": "code",
      "metadata": {
        "id": "-kQPKWD2yqMR"
      },
      "source": [
        ""
      ],
      "execution_count": null,
      "outputs": []
    },
    {
      "cell_type": "markdown",
      "metadata": {
        "id": "4vCRX3adyqMS"
      },
      "source": [
        "### Loops\n",
        "\n",
        "##### For loop\n",
        "\n",
        "The _for_ loop in Python is indroduced with the keyword 'for' followed by a statement defining the 'increment' of the loop variable and finally a colon (':'). The loop body is indented.\n",
        "\n",
        "The 'increment' statement has the for '<loop_var> in <list>'. To achieve the classic integer loop counting behaviour one can use a 'range' object to define the number of loop passes."
      ]
    },
    {
      "cell_type": "code",
      "metadata": {
        "id": "p2UlDVSmyqMT"
      },
      "source": [
        ""
      ],
      "execution_count": null,
      "outputs": []
    },
    {
      "cell_type": "markdown",
      "metadata": {
        "id": "5FXzEtwMyqMU"
      },
      "source": [
        "But you can use any _list_ object to define the incrementation of the loop variable."
      ]
    },
    {
      "cell_type": "code",
      "metadata": {
        "id": "iU5dFOx5yqMV"
      },
      "source": [
        "# loop over list\n",
        "\n",
        "# loop over tupkle\n",
        "\n",
        "# loop over dict\n"
      ],
      "execution_count": null,
      "outputs": []
    },
    {
      "cell_type": "markdown",
      "metadata": {
        "id": "REVxTntvyqMX"
      },
      "source": [
        "##### range objects\n",
        "\n",
        "The range object behaves almost like the matlab colon notation, i.e. range(2, 4, 1) is equivalent with '2:1:4' in Matlab. You can call 'range' with different number of arguments. What is the effect of that?"
      ]
    },
    {
      "cell_type": "code",
      "metadata": {
        "id": "TGbEAJyvyqMX"
      },
      "source": [
        "# call with ONE argument #\n",
        "\n",
        "\n",
        "# call with TWO arguments #\n",
        "\n",
        "\n",
        "# call with THREE arguments #\n"
      ],
      "execution_count": null,
      "outputs": []
    },
    {
      "cell_type": "markdown",
      "metadata": {
        "id": "_yNf8N9cyqMa"
      },
      "source": [
        "##### While loop\n",
        "\n",
        "The _while_ loop works intuitively as one would expect."
      ]
    },
    {
      "cell_type": "code",
      "metadata": {
        "id": "cnOzvIFryqMa"
      },
      "source": [
        ""
      ],
      "execution_count": null,
      "outputs": []
    },
    {
      "cell_type": "markdown",
      "metadata": {
        "id": "M3kZE4BWyqMd"
      },
      "source": [
        "##### Control looping behaviour\n",
        "\n",
        "As in Matlab, there exist _continue_ and _break_ statements."
      ]
    },
    {
      "cell_type": "code",
      "metadata": {
        "id": "7iKbBhIjyqMd"
      },
      "source": [
        ""
      ],
      "execution_count": null,
      "outputs": []
    },
    {
      "cell_type": "markdown",
      "metadata": {
        "id": "MReMQ3AwyqMf"
      },
      "source": [
        "## Comprehensions  (optional, performance-related)\n",
        "\n",
        "While loops can be used to fill lists or dictionaries with contents, there exists a faster way to do so that might also be better readable (however readability might also suffer if used too excessively).\n",
        "\n",
        "A well motivated example where list-comprehension is usually needed, is the addition of numerical values in two lists. Since the '+' operator for lists is just concatenating the two lists, one needs to add all values manually."
      ]
    },
    {
      "cell_type": "code",
      "metadata": {
        "id": "jMTwoT_xyqMf"
      },
      "source": [
        "l1 = # \n",
        "l2 = # \n",
        "\n"
      ],
      "execution_count": null,
      "outputs": []
    },
    {
      "cell_type": "code",
      "metadata": {
        "id": "shTj6ugRyqMg"
      },
      "source": [
        "# NOTE: '+' operator does not work as expected #\n",
        "print(\"l1 + l2 = {}\".format(l1 + l2))"
      ],
      "execution_count": null,
      "outputs": []
    },
    {
      "cell_type": "markdown",
      "metadata": {
        "id": "BJOweltGyqMi"
      },
      "source": [
        "A handy function for looping simultaneously over two lists is _zip_. This function returns in each pass a tuple with two values, one for each list."
      ]
    },
    {
      "cell_type": "code",
      "metadata": {
        "id": "JyURF8RbyqMj"
      },
      "source": [
        "# zip the two lists together #\n",
        "\n",
        "\n",
        "# zip object can be converted into a list in order to be printed\n"
      ],
      "execution_count": null,
      "outputs": []
    },
    {
      "cell_type": "code",
      "metadata": {
        "id": "iO_a4f25yqMk"
      },
      "source": [
        "# we can also loop over a zip object\n"
      ],
      "execution_count": null,
      "outputs": []
    },
    {
      "cell_type": "code",
      "metadata": {
        "id": "Onsb-62-yqMm"
      },
      "source": [
        "# example: add two list elemet by element\n"
      ],
      "execution_count": null,
      "outputs": []
    },
    {
      "cell_type": "markdown",
      "metadata": {
        "id": "OBy6yHk-yqMo"
      },
      "source": [
        "The same code based on list comprehension is much shorter."
      ]
    },
    {
      "cell_type": "code",
      "metadata": {
        "id": "PWfXGNz8yqMp"
      },
      "source": [
        "# list comprehension #\n",
        "\n",
        "\n",
        "print(\"l: {}\".format(l))"
      ],
      "execution_count": null,
      "outputs": []
    },
    {
      "cell_type": "markdown",
      "metadata": {
        "id": "C9PiEv6hyqMq"
      },
      "source": [
        "Dictionary comprehension has a similar syntax (in curly brackets), but we will skip this topic here (you'll find it in google for sure ;) )."
      ]
    },
    {
      "cell_type": "markdown",
      "metadata": {
        "id": "fKnYsPX-yqMr"
      },
      "source": [
        "## The import statement\n",
        "\n",
        "Up to now all Python functionality that we used was built-in, i.e. it is available once you start a python kernel for interpreting your commands. However, a big argument for the Python language is the huge amount of libraries and additional functionality that is available. In order to use a specific (not built-in) library one has to explicitly load it into the code. This is done by the _import_ statement.\n",
        "\n",
        "In Python a single _.py_ file is may contain several definitions of functions and classes and is called a _module_. A folder which contains several _modules_ and an additional file with name *\\__init__.py* is called a package. Packages can be subpackages of other packages. This hierarchy is important when it comes to loading a specific function from a library (i.e. package) into your code.\n",
        "\n",
        "In case you want to access a module which is part of another package you can access it with 'dot' ('.') notation by '<package>.<module>'. If it is part of a specific subpackage, access it by '<package>.<subpackage>.<module>', etc.\n",
        "\n",
        "There are two ways to use the _import_ statement. One is to import a package, subpackage or module into your code. In this case, if you want to access a function you have to use the 'dot' notation to access it."
      ]
    },
    {
      "cell_type": "code",
      "metadata": {
        "id": "wJCEjCp2yqMr"
      },
      "source": [
        "# import the numpy package #\n",
        "\n",
        "\n",
        "# create a numpy array #\n"
      ],
      "execution_count": null,
      "outputs": []
    },
    {
      "cell_type": "markdown",
      "metadata": {
        "id": "HsjJnPRCyqMu"
      },
      "source": [
        "As an alternative it is possible to import only specific functions instead of the whole module or package. This is done using a slightly different syntax with the additional keyword _from_."
      ]
    },
    {
      "cell_type": "code",
      "metadata": {
        "id": "ioISgtRdyqMu"
      },
      "source": [
        "# import only the function array from the numpy package #\n",
        "\n",
        "# create a numpy array #\n"
      ],
      "execution_count": null,
      "outputs": []
    },
    {
      "cell_type": "markdown",
      "metadata": {
        "id": "ecVL5sDSyqMw"
      },
      "source": [
        "A convenient feature for both statements is that you can assign alternative names to whatever object you import. There are standard conventions for the most common libraries e.g. 'np' for 'numpy', or 'plt' for 'matplotlib.pyplot'."
      ]
    },
    {
      "cell_type": "code",
      "metadata": {
        "id": "nrl2tx-SyqMw"
      },
      "source": [
        "# import the numpy package #\n",
        "import numpy as np\n",
        "from numpy import array as create_array\n",
        "\n",
        "arr3 = \n",
        "arr4 = \n",
        "\n",
        "print(\"'arr3' is of type {} and has value {}\".format(type(arr3), arr3))\n",
        "print(\"'arr4' is of type {} and has value {}\".format(type(arr4), arr4))"
      ],
      "execution_count": null,
      "outputs": []
    },
    {
      "cell_type": "markdown",
      "metadata": {
        "id": "O-OzuVW9yqMx"
      },
      "source": [
        "## Calling functions\n",
        "\n",
        "Function calls in the basic way work as in Matlab by providing all arguments as a comma-separated list wrapped in parantheses to the function call (as we have seen by the example of the _numpy.array_ function).\n",
        "\n",
        "In order to see the documentation of a certain function (and explore further possible arguments) call the 'help' command on the function object."
      ]
    },
    {
      "cell_type": "code",
      "metadata": {
        "scrolled": true,
        "id": "2pxuqXK5yqMx"
      },
      "source": [
        "# obtain documentation of 'numpy.array' #\n"
      ],
      "execution_count": null,
      "outputs": []
    },
    {
      "cell_type": "markdown",
      "metadata": {
        "id": "P9BIQ7pjyqM0"
      },
      "source": [
        "As you can see the function takes one argument 'object' which we provided as a list object in our previous calls. But as one can see, there are more arguments defined in the function signature. However, these arguments are initialised with default values and are therefore not mandatory to be provided at function call. Nevertheless, we can provide values also for those arguments."
      ]
    },
    {
      "cell_type": "code",
      "metadata": {
        "id": "f2n9n_SnyqM1"
      },
      "source": [
        "# call array with 'dtype' argument #\n"
      ],
      "execution_count": null,
      "outputs": []
    },
    {
      "cell_type": "markdown",
      "metadata": {
        "id": "3bFopRDVyqM3"
      },
      "source": [
        "Instead of identifying the given arguments to the function by their order it is possible to name them explicitly when calling a function (similar to creating a dict, see above). In this way, it is not necessary to provide the 'copy' argument in case we only want to specify the 'order' argument."
      ]
    },
    {
      "cell_type": "code",
      "metadata": {
        "id": "VUOtcy7ryqM3"
      },
      "source": [
        "# call array with positional 'dtype' argument and keyword argument 'order' #\n",
        "# NOTE: 'copy' argument is skipped #\n"
      ],
      "execution_count": null,
      "outputs": []
    },
    {
      "cell_type": "markdown",
      "metadata": {
        "id": "66bV3umwyqM5"
      },
      "source": [
        "## Defining custom functions\n",
        "\n",
        "In python functions are defined using the keyword _def_ followed by the function name, the comma-separated argument list and a final colon (':'). As before the function body must be properly indented! Documentation of a function is added just below the function header as shown in the next example."
      ]
    },
    {
      "cell_type": "code",
      "metadata": {
        "id": "8oYZhm3ByqM6"
      },
      "source": [
        ""
      ],
      "execution_count": null,
      "outputs": []
    },
    {
      "cell_type": "code",
      "metadata": {
        "id": "JURAvDQ-yqM7"
      },
      "source": [
        "# call the custom function #\n"
      ],
      "execution_count": null,
      "outputs": []
    },
    {
      "cell_type": "markdown",
      "metadata": {
        "id": "c0CozrPWyqM9"
      },
      "source": [
        "As mentioned by the example of the _zip_ function, it is possible to return multiple values by wrapping them in a tuple."
      ]
    },
    {
      "cell_type": "code",
      "metadata": {
        "id": "QN-GVBkfyqM-"
      },
      "source": [
        ""
      ],
      "execution_count": null,
      "outputs": []
    },
    {
      "cell_type": "code",
      "metadata": {
        "id": "FMjZ9ZVeyqM_"
      },
      "source": [
        "# retrieve both return values separately #\n",
        "\n",
        "\n",
        "# retrieve all return values as a tuple #\n"
      ],
      "execution_count": null,
      "outputs": []
    },
    {
      "cell_type": "markdown",
      "metadata": {
        "id": "tFOGmurmyqNB"
      },
      "source": [
        "## Object orientation\n",
        "\n",
        "In this introduction, we're only scratching the surface on how to work with objects in python. If you're completely new to the topic of object-oriented programming (OOP) please try to learn the basic terms and concepts first (e.g. https://realpython.com/python3-object-oriented-programming/, https://www.tutorialspoint.com/python/python_classes_objects.htm).\n",
        "\n",
        "### Type and classes\n",
        "\n",
        "for now, think about objects in python as structures that we can attach data to. In the previous parts of this introduction we've been already used some common python objects as lists, tuples, ints, etc. In python, more or less everything is an object in general, even functions or variables. The objects we used so far are so called build in objects/types. In order to determine the type of a variable, the powerful 'type' function can be used\n"
      ]
    },
    {
      "cell_type": "code",
      "metadata": {
        "id": "VfubT0TnyqNB"
      },
      "source": [
        "# define some variables:\n",
        "list_ = [1, 2, 3, 4, 5]\n",
        "dict_ = {'k1': 'foo','k2': 'bar', 'k3': 'baz'}\n",
        "int_ = 5\n",
        "str_ = 'I am a message'\n",
        "\n",
        "# print the type of those variables\n",
        "for var_ in (list_, dict_, int_, str_):\n",
        "    print(type(var_))"
      ],
      "execution_count": null,
      "outputs": []
    },
    {
      "cell_type": "markdown",
      "metadata": {
        "id": "7fSoTQaLyqNE"
      },
      "source": [
        "### Custom objects\n",
        "In order to write our own software, we might need to write own such objects for example if we want to store data to it in a more general way. Usually, we distinguish between a class declaration that defines how an object should look/behave like, and an instance of an object, that actually holds data."
      ]
    },
    {
      "cell_type": "code",
      "metadata": {
        "id": "Wpw8xJdryqNE"
      },
      "source": [
        "# definition of the objects structure\n",
        "\n",
        "  # note: pass does nothing. here only needed because after ':' it cannot be empty\n",
        "\n",
        "# print the type of the class \n"
      ],
      "execution_count": null,
      "outputs": []
    },
    {
      "cell_type": "code",
      "metadata": {
        "id": "fgQZZOa9yqNG"
      },
      "source": [
        "# create an actual insance of 'MyOwnClass'\n",
        "\n",
        "\n",
        "# print the type of the instance \n",
        "\n"
      ],
      "execution_count": null,
      "outputs": []
    },
    {
      "cell_type": "markdown",
      "metadata": {
        "id": "3b3MfsmAyqNH"
      },
      "source": [
        "### attaching data to the object\n",
        "Remember our variables 'list_', 'dict_', 'int_', 'str_'? Next, we want to attach them to our new object in order to store them and reuse them later (in order to organize our code better). One way is to attach them to out Object with the '.' operator. In practice this looks like that"
      ]
    },
    {
      "cell_type": "code",
      "metadata": {
        "id": "44_DAYg8yqNH"
      },
      "source": [
        "# one_instance.list_ = list_\n",
        "\n",
        "\n",
        "# we can now use them at different places in our code in the same way\n",
        "print(one_instance.list_)\n",
        "print(one_instance.dict_)\n",
        "# ...\n"
      ],
      "execution_count": null,
      "outputs": []
    },
    {
      "cell_type": "markdown",
      "metadata": {
        "id": "EHl7eMkIyqNK"
      },
      "source": [
        "There is however a cleaner way on how we can attach data to objects, that is easier to read, because we know at the declaration of the class already which data it is expected to contain (note: variables that are attached to an object are called the objects __member variables__). Therefore we define a __\\_\\_init\\_\\___ method. Note: in Python, there exist special methods, that objects usually are equipped with, typicalle marked with __\\_\\_method-name\\_\\___. Back to our example, this would look like this:"
      ]
    },
    {
      "cell_type": "code",
      "metadata": {
        "id": "ggv1ESvyyqNK"
      },
      "source": [
        "class AnotherOwnClass:\n",
        "    def __init__(self, list_, dict_, int_, str_):\n",
        "        self.list_ = list_\n",
        "        self.dict_ = dict_\n",
        "        self.int_ = int_\n",
        "        self.str_ = str_\n",
        "        \n",
        "another_instance = AnotherOwnClass(list_, dict_, int_, str_)\n",
        "\n",
        "print(another_instance.list_)\n",
        "print(another_instance.dict_)"
      ],
      "execution_count": null,
      "outputs": []
    },
    {
      "cell_type": "markdown",
      "metadata": {
        "id": "UeFS0oHMyqNM"
      },
      "source": [
        "### the self reference\n",
        "In the previous code fracment you propably wondered what this self variable is. This may take a bit to get used to, but once understood is always used in the same way. In python, every method of an object (here ```__init__``` ) needs to get a reference to itself as the first argument, usually named __self__. If you call the method from __outside__ of the object, the self argument is passed in automatically. For example, by calling \n",
        "\n",
        "```AnotherOwnClass(list_, dict_, int_, str_)``` \n",
        "\n",
        "python internally calls \n",
        "\n",
        "``` __init__(another_instance, list_, dict_, int_, str_)```\n",
        "\n",
        ". The last line however is just meant for illustration and not valid python. Also, note that each  appearance of 'self' within the class definition is relaced by the name of the instance if called from the outside: \n",
        "\n",
        "``` self.list_``` in the declaration becomes ```another_instance.list_``` when called from outside.\n"
      ]
    },
    {
      "cell_type": "markdown",
      "metadata": {
        "id": "ZelxRC64yqNM"
      },
      "source": [
        "### Custom member functions\n",
        "similar like our definition of __\\_\\_init\\_\\___ we can also define own functions that are particular for our object (commonly reffered to as member functions, sometimes just methods). If you understood the use of the self reference, the definition is straight forward:\n",
        "\n"
      ]
    },
    {
      "cell_type": "code",
      "metadata": {
        "id": "NirIdo7NyqNM"
      },
      "source": [
        "# definition\n",
        "class ThirdOwnClass:\n",
        "    def __init__(self, list_, dict_, int_, str_):\n",
        "        self.list_ = list_\n",
        "        self.dict_ = dict_\n",
        "        self.int_ = int_\n",
        "        self.str_ = str_\n",
        "        \n",
        "    def print_all_variables(self):\n",
        "        for var_ in (self.list_, self.dict_, self.int_, self.str_):\n",
        "            print(var_)\n",
        "            \n",
        "# instance\n",
        "third_instance = ThirdOwnClass(list_, dict_, int_, str_)\n",
        "\n",
        "# call the function\n",
        "third_instance.print_all_variables()\n"
      ],
      "execution_count": null,
      "outputs": []
    },
    {
      "cell_type": "markdown",
      "metadata": {
        "id": "5y2mtm8HyqNN"
      },
      "source": [
        "Note that we didnt had to provide anything to our 'print_all_variables' function, since it could use the data that was already attached to our object. "
      ]
    },
    {
      "cell_type": "markdown",
      "metadata": {
        "id": "295XJwAzyqNN"
      },
      "source": [
        "# A short test\n",
        "\n",
        "In order to obtain a short feedback of what you should be able to implement solve the following exercise, which is designed to include most aspects taught in this short introductory tutorial.\n",
        "\n",
        "Note that for solving this exercise you should **not** use any external library (like _Numpy_).\n",
        "\n",
        "#### Exercise\n",
        "\n",
        "Implement a function *sum_statistics* which satisfies the functional requirements of the documentation given below.\n",
        "\n",
        "<pre>\n",
        "help(sum_statistics)\n",
        "- - - -\n",
        "\"\"\"\n",
        "Perform an element-wise addition of the values in the given tuple and list of same length, compute statistics on the resulting sum (i.e. mean, maximum, minimum) and store them in a dict where the keys are the name of the statistic and the values their corresponding value. It is possible to specify a scalar weight of the elements in the sum for each the tuple as well as the list.\n",
        "\n",
        ":param    seq1:  sequence of numerical values (same length as 'seq2')\n",
        ":type     seq1:  tuple of scalars\n",
        ":param    seq2:  sequence of numerical values (same length as 'seq1')\n",
        ":type     seq2:  list of scalars\n",
        ":param factor1:  weight for elements in 'seq1'; default: 1\n",
        ":type  factor1:  scalar\n",
        ":param factor2:  weight for elements in 'seq2'; default: 1\n",
        ":type  factor2:  scalar\n",
        ":return:         dict of statistics of the weighted sum of 'seq1' and 'seq2'\n",
        ":rtype:          dict (type of keys: str, type of values: numerical)\n",
        "\"\"\"\n",
        "- - - -\n",
        "</pre>\n",
        "\n",
        "Further, implement a function *print_statistics* to print the results in a unified way. It should satisfy the requirements of the following documentation.\n",
        "\n",
        "<pre>\n",
        "help(print_statistics)\n",
        "- - - -\n",
        "\"\"\"\n",
        "Create a string representation of the given dict of statistics in the following format:\n",
        "\n",
        " ''' Resulting statistics (number of statistics = n): '''\n",
        " '''    name_of_stat_1: value_of_stat_1               '''\n",
        " '''    name_of_stat_2: value_of_stat_2               '''\n",
        " '''       .                                          '''\n",
        " '''       .                                          '''\n",
        " '''       .                                          '''\n",
        " '''    name_of_stat_n: value_of_stat_n               '''\n",
        "\n",
        "Depending on the chosen flag, the function either returns the string representation or directly prints it.\n",
        "\n",
        ":param      stats:  dict of statistics (key: name of statistic, value: value of statistic)\n",
        ":type       stats:  dict (type of keys: str, type of values: numerical)\n",
        ":param flag_print:  indicate if string representation should be printed or returned;\n",
        "                     True: print it, return nothing; False: do not print it, return string\n",
        ":type  flag_print:  bool\n",
        ":return:            either nothing or the string representation (depending on 'flag_print')\n",
        ":rtype:             None OR str\n",
        "\"\"\"\n",
        "- - - -\n",
        "</pre>"
      ]
    },
    {
      "cell_type": "code",
      "metadata": {
        "id": "RApjfWRUyqNN"
      },
      "source": [
        "# TODO: define the function 'sum_statistics' #\n"
      ],
      "execution_count": null,
      "outputs": []
    },
    {
      "cell_type": "code",
      "metadata": {
        "id": "zmFkV882yqNP"
      },
      "source": [
        "# TODO: define the function 'print_statistics' #\n"
      ],
      "execution_count": null,
      "outputs": []
    },
    {
      "cell_type": "code",
      "metadata": {
        "id": "baox0ZgKyqNQ"
      },
      "source": [
        "# TODO: define a tuple of numerical values (length > 4) #\n",
        "\n",
        "\n",
        "# TODO: define a factor for the tuple #\n",
        "\n",
        "\n",
        "# TODO: define a list of numerical values (length > 4) #\n",
        "\n",
        "\n",
        "# TODO: define a factor for the list #\n",
        "\n"
      ],
      "execution_count": null,
      "outputs": []
    },
    {
      "cell_type": "code",
      "metadata": {
        "id": "UuFqeY9tyqNS"
      },
      "source": [
        "# TODO: call 'sum_statistics' with two parameters #\n",
        "\n",
        "\n",
        "# TODO: print the resulting statistics within the function 'print_statistics' #\n",
        "\n"
      ],
      "execution_count": null,
      "outputs": []
    },
    {
      "cell_type": "code",
      "metadata": {
        "id": "gS06XxZQyqNT"
      },
      "source": [
        "# TODO: call 'sum_statistics' with three parameters #\n",
        "\n",
        "\n",
        "# TODO: obtain the string representation of the resulting statistics from 'print_statistics' #\n",
        "\n",
        "\n",
        "# TODO: print the string representation #\n",
        "\n"
      ],
      "execution_count": null,
      "outputs": []
    },
    {
      "cell_type": "code",
      "metadata": {
        "id": "W56lBDdqyqNV"
      },
      "source": [
        "# TODO: call 'sum_statistics' with four parameters #\n",
        "\n",
        "\n",
        "# TODO: obtain the string representation of the resulting statistics from 'print_statistics' #\n",
        "\n",
        "\n",
        "# TODO: print the string representation #\n",
        "\n"
      ],
      "execution_count": null,
      "outputs": []
    },
    {
      "cell_type": "markdown",
      "metadata": {
        "id": "y_DFTOOEyqNg"
      },
      "source": [
        "# A short test with OOP\n",
        "\n",
        "We now want to take the same code we wrote above, but write it in a more object-orientated style. \n",
        "\n",
        "#### Exercise\n",
        "\n",
        "Declare a class *Statistics*. Equip it with a *\\_\\_init\\_\\_* method according to the following requirements \n",
        "\n",
        "\n",
        "<pre>\n",
        "help(Statistics.__init__)\n",
        "- - - -\n",
        "\"\"\"\n",
        "Attach each of the provided parameters to the object. Then, call the member function *Statistics.sum_statistics* without any arguments. Store the dict that is returned by *Statistics.sum_statistics* as a new member variable called *stat_dict*.\n",
        "\n",
        ":param    seq1:  sequence of numerical values (same length as 'seq2')\n",
        ":type     seq1:  tuple of scalars\n",
        ":param    seq2:  sequence of numerical values (same length as 'seq1')\n",
        ":type     seq2:  list of scalars\n",
        ":param factor1:  weight for elements in 'seq1'; default: 1\n",
        ":type  factor1:  scalar\n",
        ":param factor2:  weight for elements in 'seq2'; default: 1\n",
        ":type  factor2:  scalar\n",
        ":return:         dict of statistics of the weighted sum of 'seq1' and 'seq2'\n",
        ":rtype:          dict (type of keys: str, type of values: numerical)\n",
        "\"\"\"\n",
        "- - - -\n",
        "</pre>\n",
        "\n",
        "Also, declare a member function called *sum_statistics* that behaves exactly like in the previous (not OOP) part, but does not require any parameters and instead uses the member variables. The function still is supposed to return a dict with the statistics.\n",
        "\n",
        "Lastly, write a member function *print_statistics* that also doesnt require a dictionary as a parameter, but uses the member variable *stat_dict* instead. It is still required to need a boolean *flag_print* parameter. The remaining behaviour is the same as in the previous implementation.\n",
        "\n"
      ]
    },
    {
      "cell_type": "code",
      "metadata": {
        "id": "agXeKleOyqNh"
      },
      "source": [
        "# TODO: define class\n",
        "\n",
        "    # TODO: __init__(self, ...)\n",
        "        # TODO: attach parameters to the object\n",
        "        \n",
        "        # TODO: call self.sum_statistics() and store result in self.stat_dict\n",
        "\n",
        "\n",
        "    # TODO: sum_statistics(self)\n",
        "    \n",
        "    # TODO: print_statistics(self)\n",
        " "
      ],
      "execution_count": null,
      "outputs": []
    },
    {
      "cell_type": "code",
      "metadata": {
        "id": "NgCUJRjYyqNi"
      },
      "source": [
        "# TODO create a new Statistics object by providing appropriate init values \n",
        "\n",
        "# TODO print the type of the new object instance\n",
        "\n",
        "# TODO call print_statistics methof of the new Statistics instance\n"
      ],
      "execution_count": null,
      "outputs": []
    },
    {
      "cell_type": "markdown",
      "metadata": {
        "id": "xK5pIQDQyqNj"
      },
      "source": [
        "# Congratulations\n",
        "\n",
        "Good job! :) You made it to the end! More fun with python in the Labs"
      ]
    }
  ]
}